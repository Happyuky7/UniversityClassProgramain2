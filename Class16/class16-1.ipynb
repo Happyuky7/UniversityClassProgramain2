{
 "cells": [
  {
   "cell_type": "code",
   "execution_count": 17,
   "metadata": {},
   "outputs": [],
   "source": [
    "import numpy as np\n",
    "import pandas as pd\n",
    "import matplotlib.pyplot as plt"
   ]
  },
  {
   "cell_type": "code",
   "execution_count": 18,
   "metadata": {},
   "outputs": [
    {
     "name": "stdout",
     "output_type": "stream",
     "text": [
      "   year     month  passengers\n",
      "0  1949   January         112\n",
      "1  1949  February         118\n",
      "2  1949     March         132\n",
      "3  1949     April         129\n",
      "4  1949       May         121\n"
     ]
    }
   ],
   "source": [
    "df = pd.read_csv('flights.csv')\n",
    "print(df.head())"
   ]
  },
  {
   "cell_type": "code",
   "execution_count": 19,
   "metadata": {},
   "outputs": [],
   "source": [
    "mn_pas = df['passengers'].mean()\n",
    "std_pas = df['passengers'].std()"
   ]
  },
  {
   "cell_type": "code",
   "execution_count": 20,
   "metadata": {},
   "outputs": [
    {
     "name": "stdout",
     "output_type": "stream",
     "text": [
      "El promedio es: 280.2986111111111\n",
      "La desviación estándar es: 119.9663169429432\n"
     ]
    }
   ],
   "source": [
    "\n",
    "print(f'El promedio es: {mn_pas}')\n",
    "print(f'La desviación estándar es: {std_pas}')"
   ]
  },
  {
   "cell_type": "code",
   "execution_count": 21,
   "metadata": {},
   "outputs": [],
   "source": [
    "df['outlier'] = 0"
   ]
  },
  {
   "cell_type": "code",
   "execution_count": 22,
   "metadata": {},
   "outputs": [
    {
     "name": "stdout",
     "output_type": "stream",
     "text": [
      "   year    month  passengers  outlier\n",
      "0  1949  January         112        0\n"
     ]
    }
   ],
   "source": [
    "print(df.head(1))"
   ]
  },
  {
   "cell_type": "code",
   "execution_count": 23,
   "metadata": {},
   "outputs": [],
   "source": [
    "for index, serie_row in df.iterrows():\n",
    "    if (serie_row['passengers'] > mn_pas + std_pas) or (serie_row['passengers'] < mn_pas - std_pas):\n",
    "        df.at[index, 'outlier'] = 1"
   ]
  },
  {
   "cell_type": "code",
   "execution_count": 24,
   "metadata": {},
   "outputs": [
    {
     "name": "stdout",
     "output_type": "stream",
     "text": [
      "outlier\n",
      "0    91\n",
      "1    53\n",
      "Name: count, dtype: int64\n"
     ]
    }
   ],
   "source": [
    "print(df['outlier'].value_counts())"
   ]
  },
  {
   "cell_type": "code",
   "execution_count": 25,
   "metadata": {},
   "outputs": [
    {
     "name": "stdout",
     "output_type": "stream",
     "text": [
      "outlier\n",
      "0    0.631944\n",
      "1    0.368056\n",
      "Name: proportion, dtype: float64\n"
     ]
    }
   ],
   "source": [
    "print(df['outlier'].value_counts('%'))"
   ]
  },
  {
   "cell_type": "code",
   "execution_count": 26,
   "metadata": {},
   "outputs": [
    {
     "name": "stdout",
     "output_type": "stream",
     "text": [
      "   name  age gender\n",
      "0  John   25      M\n",
      "1  Mike   30      M\n",
      "2  Sara   35      F\n"
     ]
    }
   ],
   "source": [
    "df3 = pd.DataFrame({\n",
    "    'name': ['John', 'Mike', 'Sara'],\n",
    "    'age': [25, 30, 35],\n",
    "    'gender': ['M', 'M', 'F']\n",
    "})\n",
    "\n",
    "print(df3)"
   ]
  },
  {
   "cell_type": "code",
   "execution_count": 27,
   "metadata": {},
   "outputs": [
    {
     "name": "stdout",
     "output_type": "stream",
     "text": [
      "      age gender\n",
      "name            \n",
      "John   25      M\n",
      "Mike   30      M\n",
      "Sara   35      F\n"
     ]
    }
   ],
   "source": [
    "df3.set_index('name', inplace=True)\n",
    "print(df3)"
   ]
  },
  {
   "cell_type": "code",
   "execution_count": 29,
   "metadata": {},
   "outputs": [
    {
     "name": "stdout",
     "output_type": "stream",
     "text": [
      "      age gender\n",
      "name            \n",
      "John   25      M\n",
      "Sara   35      F\n"
     ]
    }
   ],
   "source": [
    "print(df3.loc[['John', 'Sara'], ['age', 'gender']])"
   ]
  },
  {
   "cell_type": "code",
   "execution_count": 31,
   "metadata": {},
   "outputs": [],
   "source": [
    "#print(df3.loc[0])"
   ]
  },
  {
   "cell_type": "code",
   "execution_count": 32,
   "metadata": {},
   "outputs": [
    {
     "name": "stdout",
     "output_type": "stream",
     "text": [
      "     year      month  passengers  outlier\n",
      "0    1949    January         112        1\n",
      "1    1949   February         118        1\n",
      "2    1949      March         132        1\n",
      "3    1949      April         129        1\n",
      "4    1949        May         121        1\n",
      "5    1949       June         135        1\n",
      "6    1949       July         148        1\n",
      "7    1949     August         148        1\n",
      "8    1949  September         136        1\n",
      "9    1949    October         119        1\n",
      "10   1949   November         104        1\n",
      "11   1949   December         118        1\n",
      "12   1950    January         115        1\n",
      "13   1950   February         126        1\n",
      "14   1950      March         141        1\n",
      "15   1950      April         135        1\n",
      "16   1950        May         125        1\n",
      "17   1950       June         149        1\n",
      "20   1950  September         158        1\n",
      "21   1950    October         133        1\n",
      "22   1950   November         114        1\n",
      "23   1950   December         140        1\n",
      "24   1951    January         145        1\n",
      "25   1951   February         150        1\n",
      "34   1951   November         146        1\n",
      "90   1956       July         413        1\n",
      "91   1956     August         405        1\n",
      "101  1957       June         422        1\n",
      "102  1957       July         465        1\n",
      "103  1957     August         467        1\n",
      "104  1957  September         404        1\n",
      "113  1958       June         435        1\n",
      "114  1958       July         491        1\n",
      "115  1958     August         505        1\n",
      "116  1958  September         404        1\n",
      "122  1959      March         406        1\n",
      "124  1959        May         420        1\n",
      "125  1959       June         472        1\n",
      "126  1959       July         548        1\n",
      "127  1959     August         559        1\n",
      "128  1959  September         463        1\n",
      "129  1959    October         407        1\n",
      "131  1959   December         405        1\n",
      "132  1960    January         417        1\n",
      "134  1960      March         419        1\n",
      "135  1960      April         461        1\n",
      "136  1960        May         472        1\n",
      "137  1960       June         535        1\n",
      "138  1960       July         622        1\n",
      "139  1960     August         606        1\n",
      "140  1960  September         508        1\n",
      "141  1960    October         461        1\n",
      "143  1960   December         432        1\n"
     ]
    }
   ],
   "source": [
    "print(df[df['outlier'] == 1])"
   ]
  },
  {
   "cell_type": "code",
   "execution_count": 33,
   "metadata": {},
   "outputs": [
    {
     "name": "stdout",
     "output_type": "stream",
     "text": [
      "     year      month  passengers  outlier\n",
      "0    1949    January         112        1\n",
      "1    1949   February         118        1\n",
      "2    1949      March         132        1\n",
      "3    1949      April         129        1\n",
      "4    1949        May         121        1\n",
      "5    1949       June         135        1\n",
      "6    1949       July         148        1\n",
      "7    1949     August         148        1\n",
      "8    1949  September         136        1\n",
      "9    1949    October         119        1\n",
      "10   1949   November         104        1\n",
      "11   1949   December         118        1\n",
      "12   1950    January         115        1\n",
      "13   1950   February         126        1\n",
      "14   1950      March         141        1\n",
      "15   1950      April         135        1\n",
      "16   1950        May         125        1\n",
      "17   1950       June         149        1\n",
      "20   1950  September         158        1\n",
      "21   1950    October         133        1\n",
      "22   1950   November         114        1\n",
      "23   1950   December         140        1\n",
      "24   1951    January         145        1\n",
      "25   1951   February         150        1\n",
      "34   1951   November         146        1\n",
      "90   1956       July         413        1\n",
      "91   1956     August         405        1\n",
      "101  1957       June         422        1\n",
      "102  1957       July         465        1\n",
      "103  1957     August         467        1\n",
      "104  1957  September         404        1\n",
      "113  1958       June         435        1\n",
      "114  1958       July         491        1\n",
      "115  1958     August         505        1\n",
      "116  1958  September         404        1\n",
      "122  1959      March         406        1\n",
      "124  1959        May         420        1\n",
      "125  1959       June         472        1\n",
      "126  1959       July         548        1\n",
      "127  1959     August         559        1\n",
      "128  1959  September         463        1\n",
      "129  1959    October         407        1\n",
      "131  1959   December         405        1\n",
      "132  1960    January         417        1\n",
      "134  1960      March         419        1\n",
      "135  1960      April         461        1\n",
      "136  1960        May         472        1\n",
      "137  1960       June         535        1\n",
      "138  1960       July         622        1\n",
      "139  1960     August         606        1\n",
      "140  1960  September         508        1\n",
      "141  1960    October         461        1\n",
      "143  1960   December         432        1\n"
     ]
    }
   ],
   "source": [
    "print(df.loc[df['outlier'] == 1])"
   ]
  },
  {
   "cell_type": "code",
   "execution_count": 35,
   "metadata": {},
   "outputs": [],
   "source": [
    "AA = df.loc[df['outlier'] == 1, 'month'].value_counts()"
   ]
  },
  {
   "cell_type": "code",
   "execution_count": 36,
   "metadata": {},
   "outputs": [
    {
     "name": "stdout",
     "output_type": "stream",
     "text": [
      "Los tipos clasificados son los siguientes meses: \n",
      "month\n",
      "September    6\n",
      "August       6\n",
      "July         6\n",
      "June         6\n",
      "May          4\n",
      "October      4\n",
      "March        4\n",
      "January      4\n",
      "December     4\n",
      "February     3\n",
      "April        3\n",
      "November     3\n",
      "Name: count, dtype: int64\n"
     ]
    }
   ],
   "source": [
    "print('Los tipos clasificados son los siguientes meses: ')\n",
    "print(AA)"
   ]
  },
  {
   "cell_type": "code",
   "execution_count": null,
   "metadata": {},
   "outputs": [],
   "source": []
  }
 ],
 "metadata": {
  "kernelspec": {
   "display_name": "Python 3",
   "language": "python",
   "name": "python3"
  },
  "language_info": {
   "codemirror_mode": {
    "name": "ipython",
    "version": 3
   },
   "file_extension": ".py",
   "mimetype": "text/x-python",
   "name": "python",
   "nbconvert_exporter": "python",
   "pygments_lexer": "ipython3",
   "version": "3.12.6"
  }
 },
 "nbformat": 4,
 "nbformat_minor": 2
}
