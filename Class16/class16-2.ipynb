{
 "cells": [
  {
   "cell_type": "code",
   "execution_count": 6,
   "metadata": {},
   "outputs": [],
   "source": [
    "import numpy as np\n",
    "import pandas as pd\n",
    "import matplotlib.pyplot as plt"
   ]
  },
  {
   "cell_type": "code",
   "execution_count": 7,
   "metadata": {},
   "outputs": [],
   "source": [
    "df = pd.read_csv('MrBeast_youtube_stats.csv')"
   ]
  },
  {
   "cell_type": "code",
   "execution_count": 8,
   "metadata": {},
   "outputs": [
    {
     "name": "stdout",
     "output_type": "stream",
     "text": [
      "            id                                              title  \\\n",
      "0  TQHEJj68Jew               I Got Hunted By A Real Bounty Hunter   \n",
      "1  00NgUctWoLQ                   Extreme $1,000,000 Hide And Seek   \n",
      "2          NaN                                            MrBeast   \n",
      "3  ayXxwJJId_c  I Bought The World&#39;s Largest Mystery Box! ...   \n",
      "4  cExLQ1o2pDw                    First To Rob Bank Wins $100,000   \n",
      "\n",
      "                                         description  \\\n",
      "0  Sign up for Current w/ my Creator Code \"BEAST\"...   \n",
      "1  I didn't expect that to happen at the end I wa...   \n",
      "2  Accomplishments - Raised $20000000 To Plant 20...   \n",
      "3  I cant believe I spent over $500000 on mystery...   \n",
      "4  I didnt think he would actually rob the bank.....   \n",
      "\n",
      "                 publishTime     kind_stats  duration_seconds    viewCount  \\\n",
      "0  2021-04-24 20:00:00+00:00  youtube#video               861   84717282.0   \n",
      "1  2021-12-18 21:00:00+00:00  youtube#video               729   32090178.0   \n",
      "2  2012-02-20 00:43:50+00:00            NaN                 0          NaN   \n",
      "3  2021-04-03 20:00:01+00:00  youtube#video               709  101745632.0   \n",
      "4  2021-09-26 20:00:06+00:00  youtube#video               482   50008942.0   \n",
      "\n",
      "   likeCount  commentCount                             thumbnails.default.url  \\\n",
      "0  2876493.0      128922.0     https://i.ytimg.com/vi/TQHEJj68Jew/default.jpg   \n",
      "1  2125183.0       73593.0     https://i.ytimg.com/vi/00NgUctWoLQ/default.jpg   \n",
      "2        NaN           NaN  https://yt3.ggpht.com/ytc/AKedOLTctGKJ32CdDLiS...   \n",
      "3  3110824.0      162796.0     https://i.ytimg.com/vi/ayXxwJJId_c/default.jpg   \n",
      "4  2359606.0      120621.0     https://i.ytimg.com/vi/cExLQ1o2pDw/default.jpg   \n",
      "\n",
      "   ...  thumbnails.high.width  thumbnails.high.height contentDetails.duration  \\\n",
      "0  ...                  480.0                   360.0                PT14M21S   \n",
      "1  ...                  480.0                   360.0                 PT12M9S   \n",
      "2  ...                    NaN                     NaN                     NaN   \n",
      "3  ...                  480.0                   360.0                PT11M49S   \n",
      "4  ...                  480.0                   360.0                  PT8M2S   \n",
      "\n",
      "   contentDetails.dimension  \\\n",
      "0                        2d   \n",
      "1                        2d   \n",
      "2                       NaN   \n",
      "3                        2d   \n",
      "4                        2d   \n",
      "\n",
      "                        topicDetails.topicCategories snippet.defaultLanguage  \\\n",
      "0  ['https://en.wikipedia.org/wiki/Lifestyle_(soc...                     NaN   \n",
      "1  ['https://en.wikipedia.org/wiki/Lifestyle_(soc...                      en   \n",
      "2                                                NaN                     NaN   \n",
      "3  ['https://en.wikipedia.org/wiki/Lifestyle_(soc...                     NaN   \n",
      "4  ['https://en.wikipedia.org/wiki/Lifestyle_(soc...                     NaN   \n",
      "\n",
      "             localizations.en.title  \\\n",
      "0                               NaN   \n",
      "1  Extreme $1,000,000 Hide And Seek   \n",
      "2                               NaN   \n",
      "3                               NaN   \n",
      "4                               NaN   \n",
      "\n",
      "                        localizations.en.description snippet.tags  \\\n",
      "0                                                NaN          NaN   \n",
      "1  I didn't expect that to happen at the end I wa...          NaN   \n",
      "2                                                NaN          NaN   \n",
      "3                                                NaN          NaN   \n",
      "4                                                NaN          NaN   \n",
      "\n",
      "  contentDetails.contentRating.ytRating  \n",
      "0                                   NaN  \n",
      "1                                   NaN  \n",
      "2                                   NaN  \n",
      "3                                   NaN  \n",
      "4                                   NaN  \n",
      "\n",
      "[5 rows x 26 columns]\n"
     ]
    }
   ],
   "source": [
    "print(df.head())"
   ]
  },
  {
   "cell_type": "code",
   "execution_count": 10,
   "metadata": {},
   "outputs": [
    {
     "name": "stdout",
     "output_type": "stream",
     "text": [
      "(247, 26)\n"
     ]
    }
   ],
   "source": [
    "print(df.shape)"
   ]
  },
  {
   "cell_type": "code",
   "execution_count": 11,
   "metadata": {},
   "outputs": [
    {
     "name": "stdout",
     "output_type": "stream",
     "text": [
      "id                                        object\n",
      "title                                     object\n",
      "description                               object\n",
      "publishTime                               object\n",
      "kind_stats                                object\n",
      "duration_seconds                           int64\n",
      "viewCount                                float64\n",
      "likeCount                                float64\n",
      "commentCount                             float64\n",
      "thumbnails.default.url                    object\n",
      "thumbnails.default.width                 float64\n",
      "thumbnails.default.height                float64\n",
      "thumbnails.medium.url                     object\n",
      "thumbnails.medium.width                  float64\n",
      "thumbnails.medium.height                 float64\n",
      "thumbnails.high.url                       object\n",
      "thumbnails.high.width                    float64\n",
      "thumbnails.high.height                   float64\n",
      "contentDetails.duration                   object\n",
      "contentDetails.dimension                  object\n",
      "topicDetails.topicCategories              object\n",
      "snippet.defaultLanguage                   object\n",
      "localizations.en.title                    object\n",
      "localizations.en.description              object\n",
      "snippet.tags                              object\n",
      "contentDetails.contentRating.ytRating     object\n",
      "dtype: object\n"
     ]
    }
   ],
   "source": [
    "print(df.dtypes)"
   ]
  },
  {
   "cell_type": "code",
   "execution_count": 12,
   "metadata": {},
   "outputs": [
    {
     "name": "stdout",
     "output_type": "stream",
     "text": [
      "Index(['id', 'title', 'description', 'publishTime', 'kind_stats',\n",
      "       'duration_seconds', 'viewCount', 'likeCount', 'commentCount',\n",
      "       'thumbnails.default.url', 'thumbnails.default.width',\n",
      "       'thumbnails.default.height', 'thumbnails.medium.url',\n",
      "       'thumbnails.medium.width', 'thumbnails.medium.height',\n",
      "       'thumbnails.high.url', 'thumbnails.high.width',\n",
      "       'thumbnails.high.height', 'contentDetails.duration',\n",
      "       'contentDetails.dimension', 'topicDetails.topicCategories',\n",
      "       'snippet.defaultLanguage', 'localizations.en.title',\n",
      "       'localizations.en.description', 'snippet.tags',\n",
      "       'contentDetails.contentRating.ytRating'],\n",
      "      dtype='object')\n"
     ]
    }
   ],
   "source": [
    "print(df.columns)"
   ]
  },
  {
   "cell_type": "code",
   "execution_count": 13,
   "metadata": {},
   "outputs": [
    {
     "name": "stdout",
     "output_type": "stream",
     "text": [
      "       duration_seconds     viewCount     likeCount   commentCount  \\\n",
      "count        247.000000  2.460000e+02  2.440000e+02     245.000000   \n",
      "mean        1886.234818  5.084638e+07  1.610498e+06   75562.783673   \n",
      "std         8642.188728  4.062672e+07  1.879529e+06   85356.537127   \n",
      "min            0.000000  1.395400e+04  3.700000e+02      59.000000   \n",
      "25%          425.500000  1.406442e+07  4.348780e+05   21552.000000   \n",
      "50%          776.000000  4.904782e+07  1.358232e+06   60701.000000   \n",
      "75%          923.000000  8.125392e+07  2.294378e+06   99670.000000   \n",
      "max        85686.000000  1.787632e+08  1.904943e+07  726861.000000   \n",
      "\n",
      "       thumbnails.default.width  thumbnails.default.height  \\\n",
      "count                     246.0                      246.0   \n",
      "mean                      120.0                       90.0   \n",
      "std                         0.0                        0.0   \n",
      "min                       120.0                       90.0   \n",
      "25%                       120.0                       90.0   \n",
      "50%                       120.0                       90.0   \n",
      "75%                       120.0                       90.0   \n",
      "max                       120.0                       90.0   \n",
      "\n",
      "       thumbnails.medium.width  thumbnails.medium.height  \\\n",
      "count                    246.0                     246.0   \n",
      "mean                     320.0                     180.0   \n",
      "std                        0.0                       0.0   \n",
      "min                      320.0                     180.0   \n",
      "25%                      320.0                     180.0   \n",
      "50%                      320.0                     180.0   \n",
      "75%                      320.0                     180.0   \n",
      "max                      320.0                     180.0   \n",
      "\n",
      "       thumbnails.high.width  thumbnails.high.height  \n",
      "count                  246.0                   246.0  \n",
      "mean                   480.0                   360.0  \n",
      "std                      0.0                     0.0  \n",
      "min                    480.0                   360.0  \n",
      "25%                    480.0                   360.0  \n",
      "50%                    480.0                   360.0  \n",
      "75%                    480.0                   360.0  \n",
      "max                    480.0                   360.0  \n"
     ]
    }
   ],
   "source": [
    "print(df.describe())"
   ]
  },
  {
   "cell_type": "code",
   "execution_count": 14,
   "metadata": {},
   "outputs": [
    {
     "name": "stdout",
     "output_type": "stream",
     "text": [
      "<class 'pandas.core.frame.DataFrame'>\n",
      "RangeIndex: 247 entries, 0 to 246\n",
      "Data columns (total 26 columns):\n",
      " #   Column                                 Non-Null Count  Dtype  \n",
      "---  ------                                 --------------  -----  \n",
      " 0   id                                     246 non-null    object \n",
      " 1   title                                  247 non-null    object \n",
      " 2   description                            247 non-null    object \n",
      " 3   publishTime                            247 non-null    object \n",
      " 4   kind_stats                             246 non-null    object \n",
      " 5   duration_seconds                       247 non-null    int64  \n",
      " 6   viewCount                              246 non-null    float64\n",
      " 7   likeCount                              244 non-null    float64\n",
      " 8   commentCount                           245 non-null    float64\n",
      " 9   thumbnails.default.url                 247 non-null    object \n",
      " 10  thumbnails.default.width               246 non-null    float64\n",
      " 11  thumbnails.default.height              246 non-null    float64\n",
      " 12  thumbnails.medium.url                  247 non-null    object \n",
      " 13  thumbnails.medium.width                246 non-null    float64\n",
      " 14  thumbnails.medium.height               246 non-null    float64\n",
      " 15  thumbnails.high.url                    247 non-null    object \n",
      " 16  thumbnails.high.width                  246 non-null    float64\n",
      " 17  thumbnails.high.height                 246 non-null    float64\n",
      " 18  contentDetails.duration                246 non-null    object \n",
      " 19  contentDetails.dimension               246 non-null    object \n",
      " 20  topicDetails.topicCategories           235 non-null    object \n",
      " 21  snippet.defaultLanguage                2 non-null      object \n",
      " 22  localizations.en.title                 2 non-null      object \n",
      " 23  localizations.en.description           2 non-null      object \n",
      " 24  snippet.tags                           106 non-null    object \n",
      " 25  contentDetails.contentRating.ytRating  1 non-null      object \n",
      "dtypes: float64(9), int64(1), object(16)\n",
      "memory usage: 50.3+ KB\n",
      "None\n"
     ]
    }
   ],
   "source": [
    "print(df.info())"
   ]
  }
 ],
 "metadata": {
  "kernelspec": {
   "display_name": "Python 3",
   "language": "python",
   "name": "python3"
  },
  "language_info": {
   "codemirror_mode": {
    "name": "ipython",
    "version": 3
   },
   "file_extension": ".py",
   "mimetype": "text/x-python",
   "name": "python",
   "nbconvert_exporter": "python",
   "pygments_lexer": "ipython3",
   "version": "3.12.6"
  }
 },
 "nbformat": 4,
 "nbformat_minor": 2
}
