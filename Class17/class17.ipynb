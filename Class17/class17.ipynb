{
 "cells": [
  {
   "cell_type": "code",
   "execution_count": 168,
   "metadata": {},
   "outputs": [],
   "source": [
    "import numpy as np\n",
    "import pandas as pd\n",
    "import matplotlib.pyplot as plt"
   ]
  },
  {
   "cell_type": "code",
   "execution_count": 169,
   "metadata": {},
   "outputs": [],
   "source": [
    "df = pd.read_csv('MrBeast_youtube_stats.csv')"
   ]
  },
  {
   "cell_type": "code",
   "execution_count": 170,
   "metadata": {},
   "outputs": [
    {
     "name": "stdout",
     "output_type": "stream",
     "text": [
      "            id                                              title  \\\n",
      "0  TQHEJj68Jew               I Got Hunted By A Real Bounty Hunter   \n",
      "1  00NgUctWoLQ                   Extreme $1,000,000 Hide And Seek   \n",
      "2          NaN                                            MrBeast   \n",
      "3  ayXxwJJId_c  I Bought The World&#39;s Largest Mystery Box! ...   \n",
      "4  cExLQ1o2pDw                    First To Rob Bank Wins $100,000   \n",
      "\n",
      "                                         description  \\\n",
      "0  Sign up for Current w/ my Creator Code \"BEAST\"...   \n",
      "1  I didn't expect that to happen at the end I wa...   \n",
      "2  Accomplishments - Raised $20000000 To Plant 20...   \n",
      "3  I cant believe I spent over $500000 on mystery...   \n",
      "4  I didnt think he would actually rob the bank.....   \n",
      "\n",
      "                 publishTime     kind_stats  duration_seconds    viewCount  \\\n",
      "0  2021-04-24 20:00:00+00:00  youtube#video               861   84717282.0   \n",
      "1  2021-12-18 21:00:00+00:00  youtube#video               729   32090178.0   \n",
      "2  2012-02-20 00:43:50+00:00            NaN                 0          NaN   \n",
      "3  2021-04-03 20:00:01+00:00  youtube#video               709  101745632.0   \n",
      "4  2021-09-26 20:00:06+00:00  youtube#video               482   50008942.0   \n",
      "\n",
      "   likeCount  commentCount                             thumbnails.default.url  \\\n",
      "0  2876493.0      128922.0     https://i.ytimg.com/vi/TQHEJj68Jew/default.jpg   \n",
      "1  2125183.0       73593.0     https://i.ytimg.com/vi/00NgUctWoLQ/default.jpg   \n",
      "2        NaN           NaN  https://yt3.ggpht.com/ytc/AKedOLTctGKJ32CdDLiS...   \n",
      "3  3110824.0      162796.0     https://i.ytimg.com/vi/ayXxwJJId_c/default.jpg   \n",
      "4  2359606.0      120621.0     https://i.ytimg.com/vi/cExLQ1o2pDw/default.jpg   \n",
      "\n",
      "   ...  thumbnails.high.width  thumbnails.high.height contentDetails.duration  \\\n",
      "0  ...                  480.0                   360.0                PT14M21S   \n",
      "1  ...                  480.0                   360.0                 PT12M9S   \n",
      "2  ...                    NaN                     NaN                     NaN   \n",
      "3  ...                  480.0                   360.0                PT11M49S   \n",
      "4  ...                  480.0                   360.0                  PT8M2S   \n",
      "\n",
      "   contentDetails.dimension  \\\n",
      "0                        2d   \n",
      "1                        2d   \n",
      "2                       NaN   \n",
      "3                        2d   \n",
      "4                        2d   \n",
      "\n",
      "                        topicDetails.topicCategories snippet.defaultLanguage  \\\n",
      "0  ['https://en.wikipedia.org/wiki/Lifestyle_(soc...                     NaN   \n",
      "1  ['https://en.wikipedia.org/wiki/Lifestyle_(soc...                      en   \n",
      "2                                                NaN                     NaN   \n",
      "3  ['https://en.wikipedia.org/wiki/Lifestyle_(soc...                     NaN   \n",
      "4  ['https://en.wikipedia.org/wiki/Lifestyle_(soc...                     NaN   \n",
      "\n",
      "             localizations.en.title  \\\n",
      "0                               NaN   \n",
      "1  Extreme $1,000,000 Hide And Seek   \n",
      "2                               NaN   \n",
      "3                               NaN   \n",
      "4                               NaN   \n",
      "\n",
      "                        localizations.en.description snippet.tags  \\\n",
      "0                                                NaN          NaN   \n",
      "1  I didn't expect that to happen at the end I wa...          NaN   \n",
      "2                                                NaN          NaN   \n",
      "3                                                NaN          NaN   \n",
      "4                                                NaN          NaN   \n",
      "\n",
      "  contentDetails.contentRating.ytRating  \n",
      "0                                   NaN  \n",
      "1                                   NaN  \n",
      "2                                   NaN  \n",
      "3                                   NaN  \n",
      "4                                   NaN  \n",
      "\n",
      "[5 rows x 26 columns]\n"
     ]
    }
   ],
   "source": [
    "print(df.head())"
   ]
  },
  {
   "cell_type": "code",
   "execution_count": 171,
   "metadata": {},
   "outputs": [
    {
     "name": "stdout",
     "output_type": "stream",
     "text": [
      "(247, 26)\n"
     ]
    }
   ],
   "source": [
    "print(df.shape)"
   ]
  },
  {
   "cell_type": "code",
   "execution_count": 172,
   "metadata": {},
   "outputs": [
    {
     "name": "stdout",
     "output_type": "stream",
     "text": [
      "id                                        object\n",
      "title                                     object\n",
      "description                               object\n",
      "publishTime                               object\n",
      "kind_stats                                object\n",
      "duration_seconds                           int64\n",
      "viewCount                                float64\n",
      "likeCount                                float64\n",
      "commentCount                             float64\n",
      "thumbnails.default.url                    object\n",
      "thumbnails.default.width                 float64\n",
      "thumbnails.default.height                float64\n",
      "thumbnails.medium.url                     object\n",
      "thumbnails.medium.width                  float64\n",
      "thumbnails.medium.height                 float64\n",
      "thumbnails.high.url                       object\n",
      "thumbnails.high.width                    float64\n",
      "thumbnails.high.height                   float64\n",
      "contentDetails.duration                   object\n",
      "contentDetails.dimension                  object\n",
      "topicDetails.topicCategories              object\n",
      "snippet.defaultLanguage                   object\n",
      "localizations.en.title                    object\n",
      "localizations.en.description              object\n",
      "snippet.tags                              object\n",
      "contentDetails.contentRating.ytRating     object\n",
      "dtype: object\n"
     ]
    }
   ],
   "source": [
    "print(df.dtypes)"
   ]
  },
  {
   "cell_type": "code",
   "execution_count": 173,
   "metadata": {},
   "outputs": [
    {
     "name": "stdout",
     "output_type": "stream",
     "text": [
      "Index(['id', 'title', 'description', 'publishTime', 'kind_stats',\n",
      "       'duration_seconds', 'viewCount', 'likeCount', 'commentCount',\n",
      "       'thumbnails.default.url', 'thumbnails.default.width',\n",
      "       'thumbnails.default.height', 'thumbnails.medium.url',\n",
      "       'thumbnails.medium.width', 'thumbnails.medium.height',\n",
      "       'thumbnails.high.url', 'thumbnails.high.width',\n",
      "       'thumbnails.high.height', 'contentDetails.duration',\n",
      "       'contentDetails.dimension', 'topicDetails.topicCategories',\n",
      "       'snippet.defaultLanguage', 'localizations.en.title',\n",
      "       'localizations.en.description', 'snippet.tags',\n",
      "       'contentDetails.contentRating.ytRating'],\n",
      "      dtype='object')\n"
     ]
    }
   ],
   "source": [
    "print(df.columns)"
   ]
  },
  {
   "cell_type": "code",
   "execution_count": 174,
   "metadata": {},
   "outputs": [
    {
     "name": "stdout",
     "output_type": "stream",
     "text": [
      "       duration_seconds     viewCount     likeCount   commentCount  \\\n",
      "count        247.000000  2.460000e+02  2.440000e+02     245.000000   \n",
      "mean        1886.234818  5.084638e+07  1.610498e+06   75562.783673   \n",
      "std         8642.188728  4.062672e+07  1.879529e+06   85356.537127   \n",
      "min            0.000000  1.395400e+04  3.700000e+02      59.000000   \n",
      "25%          425.500000  1.406442e+07  4.348780e+05   21552.000000   \n",
      "50%          776.000000  4.904782e+07  1.358232e+06   60701.000000   \n",
      "75%          923.000000  8.125392e+07  2.294378e+06   99670.000000   \n",
      "max        85686.000000  1.787632e+08  1.904943e+07  726861.000000   \n",
      "\n",
      "       thumbnails.default.width  thumbnails.default.height  \\\n",
      "count                     246.0                      246.0   \n",
      "mean                      120.0                       90.0   \n",
      "std                         0.0                        0.0   \n",
      "min                       120.0                       90.0   \n",
      "25%                       120.0                       90.0   \n",
      "50%                       120.0                       90.0   \n",
      "75%                       120.0                       90.0   \n",
      "max                       120.0                       90.0   \n",
      "\n",
      "       thumbnails.medium.width  thumbnails.medium.height  \\\n",
      "count                    246.0                     246.0   \n",
      "mean                     320.0                     180.0   \n",
      "std                        0.0                       0.0   \n",
      "min                      320.0                     180.0   \n",
      "25%                      320.0                     180.0   \n",
      "50%                      320.0                     180.0   \n",
      "75%                      320.0                     180.0   \n",
      "max                      320.0                     180.0   \n",
      "\n",
      "       thumbnails.high.width  thumbnails.high.height  \n",
      "count                  246.0                   246.0  \n",
      "mean                   480.0                   360.0  \n",
      "std                      0.0                     0.0  \n",
      "min                    480.0                   360.0  \n",
      "25%                    480.0                   360.0  \n",
      "50%                    480.0                   360.0  \n",
      "75%                    480.0                   360.0  \n",
      "max                    480.0                   360.0  \n"
     ]
    }
   ],
   "source": [
    "print(df.describe())"
   ]
  },
  {
   "cell_type": "code",
   "execution_count": 175,
   "metadata": {},
   "outputs": [
    {
     "name": "stdout",
     "output_type": "stream",
     "text": [
      "<class 'pandas.core.frame.DataFrame'>\n",
      "RangeIndex: 247 entries, 0 to 246\n",
      "Data columns (total 26 columns):\n",
      " #   Column                                 Non-Null Count  Dtype  \n",
      "---  ------                                 --------------  -----  \n",
      " 0   id                                     246 non-null    object \n",
      " 1   title                                  247 non-null    object \n",
      " 2   description                            247 non-null    object \n",
      " 3   publishTime                            247 non-null    object \n",
      " 4   kind_stats                             246 non-null    object \n",
      " 5   duration_seconds                       247 non-null    int64  \n",
      " 6   viewCount                              246 non-null    float64\n",
      " 7   likeCount                              244 non-null    float64\n",
      " 8   commentCount                           245 non-null    float64\n",
      " 9   thumbnails.default.url                 247 non-null    object \n",
      " 10  thumbnails.default.width               246 non-null    float64\n",
      " 11  thumbnails.default.height              246 non-null    float64\n",
      " 12  thumbnails.medium.url                  247 non-null    object \n",
      " 13  thumbnails.medium.width                246 non-null    float64\n",
      " 14  thumbnails.medium.height               246 non-null    float64\n",
      " 15  thumbnails.high.url                    247 non-null    object \n",
      " 16  thumbnails.high.width                  246 non-null    float64\n",
      " 17  thumbnails.high.height                 246 non-null    float64\n",
      " 18  contentDetails.duration                246 non-null    object \n",
      " 19  contentDetails.dimension               246 non-null    object \n",
      " 20  topicDetails.topicCategories           235 non-null    object \n",
      " 21  snippet.defaultLanguage                2 non-null      object \n",
      " 22  localizations.en.title                 2 non-null      object \n",
      " 23  localizations.en.description           2 non-null      object \n",
      " 24  snippet.tags                           106 non-null    object \n",
      " 25  contentDetails.contentRating.ytRating  1 non-null      object \n",
      "dtypes: float64(9), int64(1), object(16)\n",
      "memory usage: 50.3+ KB\n",
      "None\n"
     ]
    }
   ],
   "source": [
    "print(df.info())"
   ]
  },
  {
   "cell_type": "code",
   "execution_count": 176,
   "metadata": {},
   "outputs": [
    {
     "name": "stdout",
     "output_type": "stream",
     "text": [
      "0       84717282.0\n",
      "1       32090178.0\n",
      "2              NaN\n",
      "3      101745632.0\n",
      "4       50008942.0\n",
      "          ...     \n",
      "242        16312.0\n",
      "243        15740.0\n",
      "244        18502.0\n",
      "245        16627.0\n",
      "246        18773.0\n",
      "Name: viewCount, Length: 247, dtype: float64\n"
     ]
    }
   ],
   "source": [
    "print(df['viewCount'])"
   ]
  },
  {
   "cell_type": "code",
   "execution_count": 177,
   "metadata": {},
   "outputs": [
    {
     "name": "stdout",
     "output_type": "stream",
     "text": [
      "id                                                                             cExLQ1o2pDw\n",
      "title                                                      First To Rob Bank Wins $100,000\n",
      "description                              I didnt think he would actually rob the bank.....\n",
      "publishTime                                                      2021-09-26 20:00:06+00:00\n",
      "kind_stats                                                                   youtube#video\n",
      "duration_seconds                                                                       482\n",
      "viewCount                                                                       50008942.0\n",
      "likeCount                                                                        2359606.0\n",
      "commentCount                                                                      120621.0\n",
      "thumbnails.default.url                      https://i.ytimg.com/vi/cExLQ1o2pDw/default.jpg\n",
      "thumbnails.default.width                                                             120.0\n",
      "thumbnails.default.height                                                             90.0\n",
      "thumbnails.medium.url                     https://i.ytimg.com/vi/cExLQ1o2pDw/mqdefault.jpg\n",
      "thumbnails.medium.width                                                              320.0\n",
      "thumbnails.medium.height                                                             180.0\n",
      "thumbnails.high.url                       https://i.ytimg.com/vi/cExLQ1o2pDw/hqdefault.jpg\n",
      "thumbnails.high.width                                                                480.0\n",
      "thumbnails.high.height                                                               360.0\n",
      "contentDetails.duration                                                             PT8M2S\n",
      "contentDetails.dimension                                                                2d\n",
      "topicDetails.topicCategories             ['https://en.wikipedia.org/wiki/Lifestyle_(soc...\n",
      "snippet.defaultLanguage                                                                NaN\n",
      "localizations.en.title                                                                 NaN\n",
      "localizations.en.description                                                           NaN\n",
      "snippet.tags                                                                           NaN\n",
      "contentDetails.contentRating.ytRating                                                  NaN\n",
      "Name: 4, dtype: object\n"
     ]
    }
   ],
   "source": [
    "print(df.loc[4])"
   ]
  },
  {
   "cell_type": "code",
   "execution_count": 178,
   "metadata": {},
   "outputs": [
    {
     "name": "stdout",
     "output_type": "stream",
     "text": [
      "id\n",
      "QbJJwaVdgIs    2\n",
      "HBMmK1c44sE    2\n",
      "GLoeAJUcz38    2\n",
      "urtFrxDUV6c    2\n",
      "ktyJIj6i4Qw    2\n",
      "              ..\n",
      "yeHjsYQ076A    1\n",
      "X7doE4h6W64    1\n",
      "AIytwdufwW8    1\n",
      "56OkH6ocYZU    1\n",
      "zi7tZ-2PhLk    1\n",
      "Name: count, Length: 211, dtype: int64\n"
     ]
    }
   ],
   "source": [
    "print(df.id.value_counts())"
   ]
  },
  {
   "cell_type": "code",
   "execution_count": 179,
   "metadata": {},
   "outputs": [
    {
     "name": "stdout",
     "output_type": "stream",
     "text": [
      "None\n"
     ]
    }
   ],
   "source": [
    "df.drop_duplicates(inplace=True)\n",
    "print(df.drop_duplicates(inplace=True))"
   ]
  },
  {
   "cell_type": "code",
   "execution_count": 180,
   "metadata": {},
   "outputs": [
    {
     "name": "stdout",
     "output_type": "stream",
     "text": [
      "id\n",
      "TQHEJj68Jew    1\n",
      "00NgUctWoLQ    1\n",
      "ayXxwJJId_c    1\n",
      "cExLQ1o2pDw    1\n",
      "GLoeAJUcz38    1\n",
      "              ..\n",
      "yeHjsYQ076A    1\n",
      "X7doE4h6W64    1\n",
      "AIytwdufwW8    1\n",
      "56OkH6ocYZU    1\n",
      "zi7tZ-2PhLk    1\n",
      "Name: count, Length: 211, dtype: int64\n"
     ]
    }
   ],
   "source": [
    "print(df.id.value_counts())"
   ]
  },
  {
   "cell_type": "code",
   "execution_count": 181,
   "metadata": {},
   "outputs": [],
   "source": [
    "df= df.set_index('id')\n"
   ]
  },
  {
   "cell_type": "code",
   "execution_count": 182,
   "metadata": {},
   "outputs": [
    {
     "name": "stdout",
     "output_type": "stream",
     "text": [
      "                                            title  \\\n",
      "id                                                  \n",
      "TQHEJj68Jew  I Got Hunted By A Real Bounty Hunter   \n",
      "00NgUctWoLQ      Extreme $1,000,000 Hide And Seek   \n",
      "NaN                                       MrBeast   \n",
      "\n",
      "                                                   description  \\\n",
      "id                                                               \n",
      "TQHEJj68Jew  Sign up for Current w/ my Creator Code \"BEAST\"...   \n",
      "00NgUctWoLQ  I didn't expect that to happen at the end I wa...   \n",
      "NaN          Accomplishments - Raised $20000000 To Plant 20...   \n",
      "\n",
      "                           publishTime     kind_stats  duration_seconds  \\\n",
      "id                                                                        \n",
      "TQHEJj68Jew  2021-04-24 20:00:00+00:00  youtube#video               861   \n",
      "00NgUctWoLQ  2021-12-18 21:00:00+00:00  youtube#video               729   \n",
      "NaN          2012-02-20 00:43:50+00:00            NaN                 0   \n",
      "\n",
      "              viewCount  likeCount  commentCount  \\\n",
      "id                                                 \n",
      "TQHEJj68Jew  84717282.0  2876493.0      128922.0   \n",
      "00NgUctWoLQ  32090178.0  2125183.0       73593.0   \n",
      "NaN                 NaN        NaN           NaN   \n",
      "\n",
      "                                        thumbnails.default.url  \\\n",
      "id                                                               \n",
      "TQHEJj68Jew     https://i.ytimg.com/vi/TQHEJj68Jew/default.jpg   \n",
      "00NgUctWoLQ     https://i.ytimg.com/vi/00NgUctWoLQ/default.jpg   \n",
      "NaN          https://yt3.ggpht.com/ytc/AKedOLTctGKJ32CdDLiS...   \n",
      "\n",
      "             thumbnails.default.width  ...  thumbnails.high.width  \\\n",
      "id                                     ...                          \n",
      "TQHEJj68Jew                     120.0  ...                  480.0   \n",
      "00NgUctWoLQ                     120.0  ...                  480.0   \n",
      "NaN                               NaN  ...                    NaN   \n",
      "\n",
      "            thumbnails.high.height  contentDetails.duration  \\\n",
      "id                                                            \n",
      "TQHEJj68Jew                  360.0                 PT14M21S   \n",
      "00NgUctWoLQ                  360.0                  PT12M9S   \n",
      "NaN                            NaN                      NaN   \n",
      "\n",
      "             contentDetails.dimension  \\\n",
      "id                                      \n",
      "TQHEJj68Jew                        2d   \n",
      "00NgUctWoLQ                        2d   \n",
      "NaN                               NaN   \n",
      "\n",
      "                                  topicDetails.topicCategories  \\\n",
      "id                                                               \n",
      "TQHEJj68Jew  ['https://en.wikipedia.org/wiki/Lifestyle_(soc...   \n",
      "00NgUctWoLQ  ['https://en.wikipedia.org/wiki/Lifestyle_(soc...   \n",
      "NaN                                                        NaN   \n",
      "\n",
      "             snippet.defaultLanguage            localizations.en.title  \\\n",
      "id                                                                       \n",
      "TQHEJj68Jew                      NaN                               NaN   \n",
      "00NgUctWoLQ                       en  Extreme $1,000,000 Hide And Seek   \n",
      "NaN                              NaN                               NaN   \n",
      "\n",
      "                                  localizations.en.description snippet.tags  \\\n",
      "id                                                                            \n",
      "TQHEJj68Jew                                                NaN          NaN   \n",
      "00NgUctWoLQ  I didn't expect that to happen at the end I wa...          NaN   \n",
      "NaN                                                        NaN          NaN   \n",
      "\n",
      "            contentDetails.contentRating.ytRating  \n",
      "id                                                 \n",
      "TQHEJj68Jew                                   NaN  \n",
      "00NgUctWoLQ                                   NaN  \n",
      "NaN                                           NaN  \n",
      "\n",
      "[3 rows x 25 columns]\n"
     ]
    }
   ],
   "source": [
    "print(df.head(3))"
   ]
  },
  {
   "cell_type": "code",
   "execution_count": 183,
   "metadata": {},
   "outputs": [
    {
     "name": "stdout",
     "output_type": "stream",
     "text": [
      "title                                                 I Got Hunted By A Real Bounty Hunter\n",
      "description                              Sign up for Current w/ my Creator Code \"BEAST\"...\n",
      "publishTime                                                      2021-04-24 20:00:00+00:00\n",
      "kind_stats                                                                   youtube#video\n",
      "duration_seconds                                                                       861\n",
      "viewCount                                                                       84717282.0\n",
      "likeCount                                                                        2876493.0\n",
      "commentCount                                                                      128922.0\n",
      "thumbnails.default.url                      https://i.ytimg.com/vi/TQHEJj68Jew/default.jpg\n",
      "thumbnails.default.width                                                             120.0\n",
      "thumbnails.default.height                                                             90.0\n",
      "thumbnails.medium.url                     https://i.ytimg.com/vi/TQHEJj68Jew/mqdefault.jpg\n",
      "thumbnails.medium.width                                                              320.0\n",
      "thumbnails.medium.height                                                             180.0\n",
      "thumbnails.high.url                       https://i.ytimg.com/vi/TQHEJj68Jew/hqdefault.jpg\n",
      "thumbnails.high.width                                                                480.0\n",
      "thumbnails.high.height                                                               360.0\n",
      "contentDetails.duration                                                           PT14M21S\n",
      "contentDetails.dimension                                                                2d\n",
      "topicDetails.topicCategories             ['https://en.wikipedia.org/wiki/Lifestyle_(soc...\n",
      "snippet.defaultLanguage                                                                NaN\n",
      "localizations.en.title                                                                 NaN\n",
      "localizations.en.description                                                           NaN\n",
      "snippet.tags                                                                           NaN\n",
      "contentDetails.contentRating.ytRating                                                  NaN\n",
      "Name: TQHEJj68Jew, dtype: object\n"
     ]
    }
   ],
   "source": [
    "print(df.loc['TQHEJj68Jew'])"
   ]
  },
  {
   "cell_type": "code",
   "execution_count": 184,
   "metadata": {},
   "outputs": [
    {
     "name": "stdout",
     "output_type": "stream",
     "text": [
      "Index(['title', 'description', 'publishTime', 'kind_stats', 'duration_seconds',\n",
      "       'viewCount', 'likeCount', 'commentCount', 'thumbnails.default.url',\n",
      "       'thumbnails.default.width', 'thumbnails.default.height',\n",
      "       'thumbnails.medium.url', 'thumbnails.medium.width',\n",
      "       'thumbnails.medium.height', 'thumbnails.high.url',\n",
      "       'thumbnails.high.width', 'thumbnails.high.height',\n",
      "       'contentDetails.duration', 'contentDetails.dimension',\n",
      "       'topicDetails.topicCategories', 'snippet.defaultLanguage',\n",
      "       'localizations.en.title', 'localizations.en.description',\n",
      "       'snippet.tags', 'contentDetails.contentRating.ytRating'],\n",
      "      dtype='object')\n"
     ]
    }
   ],
   "source": [
    "print(df.columns)"
   ]
  },
  {
   "cell_type": "code",
   "execution_count": 185,
   "metadata": {},
   "outputs": [],
   "source": [
    "df2 = df[['title', 'description', 'publishTime', 'duration_seconds', 'viewCount', 'likeCount', 'commentCount']]\n",
    "df = df[['title', 'description', 'publishTime', 'duration_seconds', 'viewCount', 'likeCount', 'commentCount']]"
   ]
  },
  {
   "cell_type": "code",
   "execution_count": 186,
   "metadata": {},
   "outputs": [
    {
     "name": "stdout",
     "output_type": "stream",
     "text": [
      "(212, 7)\n"
     ]
    }
   ],
   "source": [
    "print(df2.shape)"
   ]
  },
  {
   "cell_type": "code",
   "execution_count": 187,
   "metadata": {},
   "outputs": [
    {
     "name": "stdout",
     "output_type": "stream",
     "text": [
      "id\n",
      "TQHEJj68Jew     True\n",
      "00NgUctWoLQ     True\n",
      "NaN            False\n",
      "ayXxwJJId_c     True\n",
      "cExLQ1o2pDw     True\n",
      "               ...  \n",
      "yeHjsYQ076A    False\n",
      "X7doE4h6W64    False\n",
      "AIytwdufwW8    False\n",
      "56OkH6ocYZU    False\n",
      "zi7tZ-2PhLk    False\n",
      "Name: viewCount, Length: 212, dtype: bool\n"
     ]
    }
   ],
   "source": [
    "print(df2['viewCount'] > 1_000_000)"
   ]
  },
  {
   "cell_type": "code",
   "execution_count": 188,
   "metadata": {},
   "outputs": [],
   "source": [
    "df_subset1 = df2.loc[df2['viewCount'] > 1_000_000]"
   ]
  },
  {
   "cell_type": "code",
   "execution_count": 189,
   "metadata": {},
   "outputs": [
    {
     "name": "stdout",
     "output_type": "stream",
     "text": [
      "                                            title  \\\n",
      "id                                                  \n",
      "TQHEJj68Jew  I Got Hunted By A Real Bounty Hunter   \n",
      "\n",
      "                                                   description  \\\n",
      "id                                                               \n",
      "TQHEJj68Jew  Sign up for Current w/ my Creator Code \"BEAST\"...   \n",
      "\n",
      "                           publishTime  duration_seconds   viewCount  \\\n",
      "id                                                                     \n",
      "TQHEJj68Jew  2021-04-24 20:00:00+00:00               861  84717282.0   \n",
      "\n",
      "             likeCount  commentCount  \n",
      "id                                    \n",
      "TQHEJj68Jew  2876493.0      128922.0  \n"
     ]
    }
   ],
   "source": [
    "print(df_subset1.head(1))"
   ]
  },
  {
   "cell_type": "code",
   "execution_count": 190,
   "metadata": {},
   "outputs": [
    {
     "data": {
      "text/plain": [
       "title               0\n",
       "description         0\n",
       "publishTime         0\n",
       "duration_seconds    0\n",
       "viewCount           1\n",
       "likeCount           2\n",
       "commentCount        2\n",
       "dtype: int64"
      ]
     },
     "execution_count": 190,
     "metadata": {},
     "output_type": "execute_result"
    }
   ],
   "source": [
    "df2.isna().sum()"
   ]
  },
  {
   "cell_type": "code",
   "execution_count": 191,
   "metadata": {},
   "outputs": [],
   "source": [
    "df2.dropna(inplace=True)\n",
    "df.dropna(inplace=True)"
   ]
  },
  {
   "cell_type": "code",
   "execution_count": 192,
   "metadata": {},
   "outputs": [
    {
     "data": {
      "text/plain": [
       "title               0\n",
       "description         0\n",
       "publishTime         0\n",
       "duration_seconds    0\n",
       "viewCount           0\n",
       "likeCount           0\n",
       "commentCount        0\n",
       "dtype: int64"
      ]
     },
     "execution_count": 192,
     "metadata": {},
     "output_type": "execute_result"
    }
   ],
   "source": [
    "df2.isna().sum()"
   ]
  },
  {
   "cell_type": "code",
   "execution_count": 193,
   "metadata": {},
   "outputs": [
    {
     "name": "stdout",
     "output_type": "stream",
     "text": [
      "(209, 7)\n"
     ]
    }
   ],
   "source": [
    "print(df2.shape)"
   ]
  },
  {
   "cell_type": "code",
   "execution_count": 194,
   "metadata": {},
   "outputs": [
    {
     "data": {
      "text/plain": [
       "title                object\n",
       "description          object\n",
       "publishTime          object\n",
       "duration_seconds      int64\n",
       "viewCount           float64\n",
       "likeCount           float64\n",
       "commentCount        float64\n",
       "dtype: object"
      ]
     },
     "execution_count": 194,
     "metadata": {},
     "output_type": "execute_result"
    }
   ],
   "source": [
    "df2.dtypes"
   ]
  },
  {
   "cell_type": "code",
   "execution_count": 199,
   "metadata": {},
   "outputs": [],
   "source": [
    "df2['viewCount'] = df2['viewCount'].fillna(0).astype(int)\n",
    "df2['likeCount'] = df2['likeCount'].astype(int)\n",
    "df2['commentCount'] = df2['commentCount'].astype(int)\n"
   ]
  },
  {
   "cell_type": "code",
   "execution_count": 196,
   "metadata": {},
   "outputs": [
    {
     "data": {
      "text/plain": [
       "id\n",
       "TQHEJj68Jew    2021-04-24 20:00:00+00:00\n",
       "00NgUctWoLQ    2021-12-18 21:00:00+00:00\n",
       "ayXxwJJId_c    2021-04-03 20:00:01+00:00\n",
       "cExLQ1o2pDw    2021-09-26 20:00:06+00:00\n",
       "GLoeAJUcz38    2020-11-14 21:00:02+00:00\n",
       "                         ...            \n",
       "yeHjsYQ076A    2015-04-26 21:26:36+00:00\n",
       "X7doE4h6W64    2015-06-21 12:22:34+00:00\n",
       "AIytwdufwW8    2015-05-29 20:07:48+00:00\n",
       "56OkH6ocYZU    2015-05-15 16:48:54+00:00\n",
       "zi7tZ-2PhLk    2015-05-31 18:31:25+00:00\n",
       "Name: publishTime, Length: 209, dtype: object"
      ]
     },
     "execution_count": 196,
     "metadata": {},
     "output_type": "execute_result"
    }
   ],
   "source": [
    "df2['publishTime']"
   ]
  },
  {
   "cell_type": "code",
   "execution_count": 197,
   "metadata": {},
   "outputs": [],
   "source": [
    "df2['publishTime'] = pd.to_datetime(df2['publishTime'])"
   ]
  },
  {
   "cell_type": "code",
   "execution_count": 198,
   "metadata": {},
   "outputs": [
    {
     "data": {
      "text/plain": [
       "title                            object\n",
       "description                      object\n",
       "publishTime         datetime64[ns, UTC]\n",
       "duration_seconds                  int64\n",
       "viewCount                         int64\n",
       "likeCount                         int64\n",
       "commentCount                      int64\n",
       "dtype: object"
      ]
     },
     "execution_count": 198,
     "metadata": {},
     "output_type": "execute_result"
    }
   ],
   "source": [
    "df2.dtypes"
   ]
  },
  {
   "cell_type": "code",
   "execution_count": 200,
   "metadata": {},
   "outputs": [
    {
     "data": {
      "text/plain": [
       "id\n",
       "TQHEJj68Jew    0.033954\n",
       "00NgUctWoLQ    0.066225\n",
       "ayXxwJJId_c    0.030575\n",
       "cExLQ1o2pDw    0.047184\n",
       "GLoeAJUcz38    0.018982\n",
       "                 ...   \n",
       "yeHjsYQ076A    0.035189\n",
       "X7doE4h6W64    0.040470\n",
       "AIytwdufwW8    0.027456\n",
       "56OkH6ocYZU    0.025862\n",
       "zi7tZ-2PhLk    0.019709\n",
       "Length: 209, dtype: float64"
      ]
     },
     "execution_count": 200,
     "metadata": {},
     "output_type": "execute_result"
    }
   ],
   "source": [
    "df2['likeCount'] / df2['viewCount']"
   ]
  },
  {
   "cell_type": "code",
   "execution_count": 201,
   "metadata": {},
   "outputs": [],
   "source": [
    "df2['like_To_view_ratio'] = df2['likeCount'] / df2['viewCount']"
   ]
  },
  {
   "cell_type": "code",
   "execution_count": 202,
   "metadata": {},
   "outputs": [
    {
     "data": {
      "text/html": [
       "<div>\n",
       "<style scoped>\n",
       "    .dataframe tbody tr th:only-of-type {\n",
       "        vertical-align: middle;\n",
       "    }\n",
       "\n",
       "    .dataframe tbody tr th {\n",
       "        vertical-align: top;\n",
       "    }\n",
       "\n",
       "    .dataframe thead th {\n",
       "        text-align: right;\n",
       "    }\n",
       "</style>\n",
       "<table border=\"1\" class=\"dataframe\">\n",
       "  <thead>\n",
       "    <tr style=\"text-align: right;\">\n",
       "      <th></th>\n",
       "      <th>title</th>\n",
       "      <th>description</th>\n",
       "      <th>publishTime</th>\n",
       "      <th>duration_seconds</th>\n",
       "      <th>viewCount</th>\n",
       "      <th>likeCount</th>\n",
       "      <th>commentCount</th>\n",
       "      <th>like_To_view_ratio</th>\n",
       "    </tr>\n",
       "    <tr>\n",
       "      <th>id</th>\n",
       "      <th></th>\n",
       "      <th></th>\n",
       "      <th></th>\n",
       "      <th></th>\n",
       "      <th></th>\n",
       "      <th></th>\n",
       "      <th></th>\n",
       "      <th></th>\n",
       "    </tr>\n",
       "  </thead>\n",
       "  <tbody>\n",
       "    <tr>\n",
       "      <th>TQHEJj68Jew</th>\n",
       "      <td>I Got Hunted By A Real Bounty Hunter</td>\n",
       "      <td>Sign up for Current w/ my Creator Code \"BEAST\"...</td>\n",
       "      <td>2021-04-24 20:00:00+00:00</td>\n",
       "      <td>861</td>\n",
       "      <td>84717282</td>\n",
       "      <td>2876493</td>\n",
       "      <td>128922</td>\n",
       "      <td>0.033954</td>\n",
       "    </tr>\n",
       "    <tr>\n",
       "      <th>00NgUctWoLQ</th>\n",
       "      <td>Extreme $1,000,000 Hide And Seek</td>\n",
       "      <td>I didn't expect that to happen at the end I wa...</td>\n",
       "      <td>2021-12-18 21:00:00+00:00</td>\n",
       "      <td>729</td>\n",
       "      <td>32090178</td>\n",
       "      <td>2125183</td>\n",
       "      <td>73593</td>\n",
       "      <td>0.066225</td>\n",
       "    </tr>\n",
       "    <tr>\n",
       "      <th>ayXxwJJId_c</th>\n",
       "      <td>I Bought The World&amp;#39;s Largest Mystery Box! ...</td>\n",
       "      <td>I cant believe I spent over $500000 on mystery...</td>\n",
       "      <td>2021-04-03 20:00:01+00:00</td>\n",
       "      <td>709</td>\n",
       "      <td>101745632</td>\n",
       "      <td>3110824</td>\n",
       "      <td>162796</td>\n",
       "      <td>0.030575</td>\n",
       "    </tr>\n",
       "    <tr>\n",
       "      <th>cExLQ1o2pDw</th>\n",
       "      <td>First To Rob Bank Wins $100,000</td>\n",
       "      <td>I didnt think he would actually rob the bank.....</td>\n",
       "      <td>2021-09-26 20:00:06+00:00</td>\n",
       "      <td>482</td>\n",
       "      <td>50008942</td>\n",
       "      <td>2359606</td>\n",
       "      <td>120621</td>\n",
       "      <td>0.047184</td>\n",
       "    </tr>\n",
       "    <tr>\n",
       "      <th>GLoeAJUcz38</th>\n",
       "      <td>Press This Button To Win $100,000!</td>\n",
       "      <td>Push the red subscribe button and you could al...</td>\n",
       "      <td>2020-11-14 21:00:02+00:00</td>\n",
       "      <td>911</td>\n",
       "      <td>145527042</td>\n",
       "      <td>2762425</td>\n",
       "      <td>83853</td>\n",
       "      <td>0.018982</td>\n",
       "    </tr>\n",
       "  </tbody>\n",
       "</table>\n",
       "</div>"
      ],
      "text/plain": [
       "                                                         title  \\\n",
       "id                                                               \n",
       "TQHEJj68Jew               I Got Hunted By A Real Bounty Hunter   \n",
       "00NgUctWoLQ                   Extreme $1,000,000 Hide And Seek   \n",
       "ayXxwJJId_c  I Bought The World&#39;s Largest Mystery Box! ...   \n",
       "cExLQ1o2pDw                    First To Rob Bank Wins $100,000   \n",
       "GLoeAJUcz38                 Press This Button To Win $100,000!   \n",
       "\n",
       "                                                   description  \\\n",
       "id                                                               \n",
       "TQHEJj68Jew  Sign up for Current w/ my Creator Code \"BEAST\"...   \n",
       "00NgUctWoLQ  I didn't expect that to happen at the end I wa...   \n",
       "ayXxwJJId_c  I cant believe I spent over $500000 on mystery...   \n",
       "cExLQ1o2pDw  I didnt think he would actually rob the bank.....   \n",
       "GLoeAJUcz38  Push the red subscribe button and you could al...   \n",
       "\n",
       "                          publishTime  duration_seconds  viewCount  likeCount  \\\n",
       "id                                                                              \n",
       "TQHEJj68Jew 2021-04-24 20:00:00+00:00               861   84717282    2876493   \n",
       "00NgUctWoLQ 2021-12-18 21:00:00+00:00               729   32090178    2125183   \n",
       "ayXxwJJId_c 2021-04-03 20:00:01+00:00               709  101745632    3110824   \n",
       "cExLQ1o2pDw 2021-09-26 20:00:06+00:00               482   50008942    2359606   \n",
       "GLoeAJUcz38 2020-11-14 21:00:02+00:00               911  145527042    2762425   \n",
       "\n",
       "             commentCount  like_To_view_ratio  \n",
       "id                                             \n",
       "TQHEJj68Jew        128922            0.033954  \n",
       "00NgUctWoLQ         73593            0.066225  \n",
       "ayXxwJJId_c        162796            0.030575  \n",
       "cExLQ1o2pDw        120621            0.047184  \n",
       "GLoeAJUcz38         83853            0.018982  "
      ]
     },
     "execution_count": 202,
     "metadata": {},
     "output_type": "execute_result"
    }
   ],
   "source": [
    "df2.head()"
   ]
  },
  {
   "cell_type": "code",
   "execution_count": 206,
   "metadata": {},
   "outputs": [
    {
     "data": {
      "image/png": "[encoded data removed]",
      "text/plain": [
       "<Figure size 640x480 with 1 Axes>"
      ]
     },
     "metadata": {},
     "output_type": "display_data"
    }
   ],
   "source": [
    "plt.hist(df2.viewCount, bins=25, color='green')\n",
    "plt.axhline(y=15)\n",
    "plt.title('Histogram de cantidad de vistas por videos')\n",
    "plt.show()"
   ]
  },
  {
   "cell_type": "code",
   "execution_count": 210,
   "metadata": {},
   "outputs": [
    {
     "data": {
      "image/png": "[encoded data removed]",
      "text/plain": [
       "<Figure size 640x480 with 1 Axes>"
      ]
     },
     "metadata": {},
     "output_type": "display_data"
    }
   ],
   "source": [
    "plt.scatter(df2.viewCount, df2.likeCount)\n",
    "plt.xlabel('Cantidad de vistas por video')\n",
    "plt.ylabel('Cantidad de likes por video')\n",
    "plt.title('Relacion vistas / likes por video')\n",
    "plt.ylim(259, 5560000)\n",
    "plt.show()"
   ]
  },
  {
   "cell_type": "code",
   "execution_count": 211,
   "metadata": {},
   "outputs": [
    {
     "data": {
      "text/plain": [
       "id\n",
       "zi7tZ-2PhLk         370.0\n",
       "ZQZzR0DUujc         374.0\n",
       "56OkH6ocYZU         430.0\n",
       "AIytwdufwW8         508.0\n",
       "lfD7kMZKuNg         571.0\n",
       "                  ...    \n",
       "LeYsRMZFUq0     4286817.0\n",
       "PKtnafFtfEo     4707358.0\n",
       "9bqk6ZUsKyA     5379027.0\n",
       "0e3GPea1Tyg    12250732.0\n",
       "dBxOYE2j55U    19049431.0\n",
       "Name: likeCount, Length: 209, dtype: float64"
      ]
     },
     "execution_count": 211,
     "metadata": {},
     "output_type": "execute_result"
    }
   ],
   "source": [
    "df.likeCount.sort_values()"
   ]
  },
  {
   "cell_type": "code",
   "execution_count": 212,
   "metadata": {},
   "outputs": [
    {
     "data": {
      "image/png": "[encoded data removed]",
      "text/plain": [
       "<Figure size 640x480 with 1 Axes>"
      ]
     },
     "metadata": {},
     "output_type": "display_data"
    }
   ],
   "source": [
    "plt.scatter(df2.publishTime, df2.likeCount)\n",
    "plt.ylim(259, 5560000)\n",
    "plt.show()"
   ]
  },
  {
   "cell_type": "code",
   "execution_count": 214,
   "metadata": {},
   "outputs": [
    {
     "data": {
      "image/png": "[encoded data removed]",
      "text/plain": [
       "<Figure size 640x480 with 1 Axes>"
      ]
     },
     "metadata": {},
     "output_type": "display_data"
    }
   ],
   "source": [
    "plt.scatter(df2.duration_seconds, df2.likeCount)\n",
    "plt.ylim(259, 5560000)\n",
    "plt.xlim(0, 2_400)\n",
    "plt.show()"
   ]
  },
  {
   "cell_type": "code",
   "execution_count": 216,
   "metadata": {},
   "outputs": [],
   "source": [
    "import seaborn as sns"
   ]
  },
  {
   "cell_type": "code",
   "execution_count": 217,
   "metadata": {},
   "outputs": [
    {
     "data": {
      "text/plain": [
       "Index(['title', 'description', 'publishTime', 'duration_seconds', 'viewCount',\n",
       "       'likeCount', 'commentCount', 'like_To_view_ratio'],\n",
       "      dtype='object')"
      ]
     },
     "execution_count": 217,
     "metadata": {},
     "output_type": "execute_result"
    }
   ],
   "source": [
    "df2.columns"
   ]
  },
  {
   "cell_type": "code",
   "execution_count": 218,
   "metadata": {},
   "outputs": [],
   "source": [
    "df3 = df2[['publishTime', 'duration_seconds', 'viewCount', 'likeCount', 'commentCount', 'like_To_view_ratio']]"
   ]
  },
  {
   "cell_type": "code",
   "execution_count": 219,
   "metadata": {},
   "outputs": [],
   "source": [
    "corr_matrix = df3.corr()"
   ]
  },
  {
   "cell_type": "code",
   "execution_count": 220,
   "metadata": {},
   "outputs": [
    {
     "name": "stdout",
     "output_type": "stream",
     "text": [
      "                    publishTime  duration_seconds  viewCount  likeCount  \\\n",
      "publishTime            1.000000         -0.058476   0.729052   0.549597   \n",
      "duration_seconds      -0.058476          1.000000  -0.094647  -0.047911   \n",
      "viewCount              0.729052         -0.094647   1.000000   0.667602   \n",
      "likeCount              0.549597         -0.047911   0.667602   1.000000   \n",
      "commentCount           0.554849          0.030482   0.616082   0.709430   \n",
      "like_To_view_ratio     0.003216          0.076243  -0.113094   0.540048   \n",
      "\n",
      "                    commentCount  like_To_view_ratio  \n",
      "publishTime             0.554849            0.003216  \n",
      "duration_seconds        0.030482            0.076243  \n",
      "viewCount               0.616082           -0.113094  \n",
      "likeCount               0.709430            0.540048  \n",
      "commentCount            1.000000            0.290694  \n",
      "like_To_view_ratio      0.290694            1.000000  \n"
     ]
    }
   ],
   "source": [
    "print(corr_matrix)"
   ]
  },
  {
   "cell_type": "code",
   "execution_count": 221,
   "metadata": {},
   "outputs": [
    {
     "data": {
      "image/png": "[encoded data removed]",
      "text/plain": [
       "<Figure size 640x480 with 2 Axes>"
      ]
     },
     "metadata": {},
     "output_type": "display_data"
    }
   ],
   "source": [
    "sns.heatmap(corr_matrix, annot=True)\n",
    "plt.show()"
   ]
  },
  {
   "cell_type": "code",
   "execution_count": 222,
   "metadata": {},
   "outputs": [],
   "source": [
    "df2.to_csv('MrBeast_youtube_stats_cleaned.csv')"
   ]
  }
 ],
 "metadata": {
  "kernelspec": {
   "display_name": "Python 3",
   "language": "python",
   "name": "python3"
  },
  "language_info": {
   "codemirror_mode": {
    "name": "ipython",
    "version": 3
   },
   "file_extension": ".py",
   "mimetype": "text/x-python",
   "name": "python",
   "nbconvert_exporter": "python",
   "pygments_lexer": "ipython3",
   "version": "3.12.6"
  }
 },
 "nbformat": 4,
 "nbformat_minor": 2
}
